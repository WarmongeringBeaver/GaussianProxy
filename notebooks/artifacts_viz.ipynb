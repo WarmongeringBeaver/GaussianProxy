{
 "cells": [
  {
   "cell_type": "markdown",
   "metadata": {},
   "source": [
    "Create images & videos out of saved generation data"
   ]
  },
  {
   "cell_type": "markdown",
   "metadata": {},
   "source": [
    "# Imports"
   ]
  },
  {
   "cell_type": "code",
   "execution_count": 1,
   "metadata": {},
   "outputs": [],
   "source": [
    "import sys\n",
    "from pathlib import Path\n",
    "\n",
    "import imageio\n",
    "import torch\n",
    "from IPython.display import HTML\n",
    "\n",
    "sys.path.append(str(Path(\"..\").resolve()))\n",
    "\n",
    "from utils.misc import _normalize_elements_for_logging"
   ]
  },
  {
   "cell_type": "markdown",
   "metadata": {},
   "source": [
    "# Experiment"
   ]
  },
  {
   "cell_type": "code",
   "execution_count": 2,
   "metadata": {},
   "outputs": [],
   "source": [
    "root_experiments_path = Path(\"/\", \"projects\", \"static2dynamic\", \"Thomas\", \"experiments\")"
   ]
  },
  {
   "cell_type": "code",
   "execution_count": 3,
   "metadata": {},
   "outputs": [],
   "source": [
    "project_name = \"GaussianProxy\"\n",
    "run_name = \"eval_logging_tests\""
   ]
  },
  {
   "cell_type": "code",
   "execution_count": 4,
   "metadata": {},
   "outputs": [],
   "source": [
    "project_path = root_experiments_path / project_name\n",
    "assert project_path.exists(), f\"Project path {project_path} does not exist.\"\n",
    "\n",
    "run_path = project_path / run_name\n",
    "assert run_path.exists(), f\"Run path {run_path} does not exist.\""
   ]
  },
  {
   "cell_type": "markdown",
   "metadata": {},
   "source": [
    "# Show video of trajectories"
   ]
  },
  {
   "cell_type": "code",
   "execution_count": 5,
   "metadata": {},
   "outputs": [
    {
     "name": "stdout",
     "output_type": "stream",
     "text": [
      "Found 3 trajectories.\n",
      "Last trajectory: step_300.pt\n",
      "Loaded trajectory with shape torch.Size([16, 20, 3, 128, 128]), dtype torch.float32 on cpu\n"
     ]
    }
   ],
   "source": [
    "proc0_vids_path = run_path / \"saved_artifacts\" / \"proc_0\" / \"trajectories\"\n",
    "assert proc0_vids_path.exists(), f\"Proc0 vids path {proc0_vids_path} does not exist.\"\n",
    "all_trajs = list(proc0_vids_path.rglob(\"*.pt\"))\n",
    "print(f\"Found {len(all_trajs)} trajectories.\")\n",
    "last_traj_path = all_trajs[-1]\n",
    "print(f\"Last trajectory: {last_traj_path.name}\")\n",
    "last_traj = torch.load(last_traj_path).cpu()\n",
    "print(f\"Loaded trajectory with shape {last_traj.shape}, dtype {last_traj.dtype} on cpu\")"
   ]
  },
  {
   "cell_type": "code",
   "execution_count": 6,
   "metadata": {},
   "outputs": [],
   "source": [
    "nomrd_vids = _normalize_elements_for_logging(\n",
    "    last_traj,\n",
    "    [\"image min-max\", \"video min-max\", \"[-1;1] raw\", \"[-1;1] clipped\"],\n",
    ")"
   ]
  },
  {
   "cell_type": "code",
   "execution_count": 22,
   "metadata": {},
   "outputs": [],
   "source": [
    "image_index = 2"
   ]
  },
  {
   "cell_type": "code",
   "execution_count": 23,
   "metadata": {},
   "outputs": [
    {
     "name": "stdout",
     "output_type": "stream",
     "text": [
      "Norm method: image min-max | saved data shape: (16, 20, 3, 128, 128) | selected video sample shape: (20, 3, 128, 128)\n"
     ]
    },
    {
     "data": {
      "text/html": [
       "<video width=\"800\" controls><source src=\"image min-max.mp4\" type=\"video/mp4\"></video>"
      ],
      "text/plain": [
       "<IPython.core.display.HTML object>"
      ]
     },
     "metadata": {},
     "output_type": "display_data"
    },
    {
     "name": "stdout",
     "output_type": "stream",
     "text": [
      "Norm method: video min-max | saved data shape: (16, 20, 3, 128, 128) | selected video sample shape: (20, 3, 128, 128)\n"
     ]
    },
    {
     "data": {
      "text/html": [
       "<video width=\"800\" controls><source src=\"video min-max.mp4\" type=\"video/mp4\"></video>"
      ],
      "text/plain": [
       "<IPython.core.display.HTML object>"
      ]
     },
     "metadata": {},
     "output_type": "display_data"
    },
    {
     "name": "stdout",
     "output_type": "stream",
     "text": [
      "Norm method: [-1:1] raw | saved data shape: (16, 20, 3, 128, 128) | selected video sample shape: (20, 3, 128, 128)\n"
     ]
    },
    {
     "data": {
      "text/html": [
       "<video width=\"800\" controls><source src=\"[-1:1] raw.mp4\" type=\"video/mp4\"></video>"
      ],
      "text/plain": [
       "<IPython.core.display.HTML object>"
      ]
     },
     "metadata": {},
     "output_type": "display_data"
    },
    {
     "name": "stdout",
     "output_type": "stream",
     "text": [
      "Norm method: [-1:1] clipped | saved data shape: (16, 20, 3, 128, 128) | selected video sample shape: (20, 3, 128, 128)\n"
     ]
    },
    {
     "data": {
      "text/html": [
       "<video width=\"800\" controls><source src=\"[-1:1] clipped.mp4\" type=\"video/mp4\"></video>"
      ],
      "text/plain": [
       "<IPython.core.display.HTML object>"
      ]
     },
     "metadata": {},
     "output_type": "display_data"
    }
   ],
   "source": [
    "for norm_method, vid in nomrd_vids.items():\n",
    "    print(\n",
    "        f\"Norm method: {norm_method} | saved data shape: {vid.shape} | selected video sample shape: {vid[image_index].shape}\"\n",
    "    )\n",
    "    # Convert np array to video\n",
    "    video_name = f\"{norm_method}.mp4\"\n",
    "    imageio.mimwrite(video_name, vid[image_index].transpose(0, 2, 3, 1), fps=2)\n",
    "\n",
    "    # Display the video with a specific width\n",
    "    display(HTML(f'<video width=\"800\" controls><source src=\"{video_name}\" type=\"video/mp4\"></video>'))"
   ]
  }
 ],
 "metadata": {
  "kernelspec": {
   "display_name": "Python 3",
   "language": "python",
   "name": "python3"
  },
  "language_info": {
   "codemirror_mode": {
    "name": "ipython",
    "version": 3
   },
   "file_extension": ".py",
   "mimetype": "text/x-python",
   "name": "python",
   "nbconvert_exporter": "python",
   "pygments_lexer": "ipython3",
   "version": "3.11.9"
  }
 },
 "nbformat": 4,
 "nbformat_minor": 2
}
