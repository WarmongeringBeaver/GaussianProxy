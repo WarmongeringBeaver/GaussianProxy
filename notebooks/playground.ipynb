{
 "cells": [
  {
   "cell_type": "markdown",
   "metadata": {},
   "source": [
    "# Imports"
   ]
  },
  {
   "cell_type": "code",
   "execution_count": null,
   "metadata": {},
   "outputs": [],
   "source": [
    "import sys\n",
    "from pathlib import Path\n",
    "\n",
    "import torch\n",
    "from diffusers.models.unets.unet_2d_condition import UNet2DConditionModel"
   ]
  },
  {
   "cell_type": "code",
   "execution_count": null,
   "metadata": {},
   "outputs": [],
   "source": [
    "parent_dir = str(Path.cwd().parent)\n",
    "if parent_dir not in sys.path:\n",
    "    sys.path.append(parent_dir)"
   ]
  },
  {
   "cell_type": "code",
   "execution_count": null,
   "metadata": {},
   "outputs": [],
   "source": [
    "from utils.models import VideoTimeEncoding"
   ]
  },
  {
   "cell_type": "code",
   "execution_count": null,
   "metadata": {},
   "outputs": [],
   "source": [
    "torch.set_grad_enabled(False)"
   ]
  },
  {
   "cell_type": "markdown",
   "metadata": {},
   "source": [
    "# Models"
   ]
  },
  {
   "cell_type": "code",
   "execution_count": null,
   "metadata": {},
   "outputs": [],
   "source": [
    "cross_attention_dim = 128\n",
    "\n",
    "net = UNet2DConditionModel(\n",
    "    sample_size=128,\n",
    "    in_channels=3,\n",
    "    out_channels=3,\n",
    "    down_block_types=(\"DownBlock2D\", \"CrossAttnDownBlock2D\", \"CrossAttnDownBlock2D\"),\n",
    "    up_block_types=(\"CrossAttnUpBlock2D\", \"CrossAttnUpBlock2D\", \"UpBlock2D\"),\n",
    "    block_out_channels=(64, 128, 256),\n",
    "    layers_per_block=2,\n",
    "    dropout=0,\n",
    "    act_fn=\"silu\",\n",
    "    attention_head_dim=8,\n",
    "    cross_attention_dim=cross_attention_dim,\n",
    ").to(\"cuda\")\n",
    "net"
   ]
  },
  {
   "cell_type": "code",
   "execution_count": null,
   "metadata": {},
   "outputs": [],
   "source": [
    "video_time_encoding = VideoTimeEncoding(\n",
    "    encoding_dim=128,\n",
    "    time_embed_dim=cross_attention_dim,\n",
    "    flip_sin_to_cos=True,\n",
    "    downscale_freq_shift=1,\n",
    ").to(\"cuda\")\n",
    "video_time_encoding"
   ]
  },
  {
   "cell_type": "markdown",
   "metadata": {},
   "source": [
    "# Forward pass"
   ]
  },
  {
   "cell_type": "code",
   "execution_count": null,
   "metadata": {},
   "outputs": [],
   "source": [
    "batch_size = 16"
   ]
  },
  {
   "cell_type": "code",
   "execution_count": null,
   "metadata": {},
   "outputs": [],
   "source": [
    "noisy_batch = torch.randn(batch_size, 3, 128, 128).to(\"cuda\")\n",
    "diff_timesteps = torch.randint(0, 1000, (batch_size,)).to(\"cuda\")"
   ]
  },
  {
   "cell_type": "code",
   "execution_count": null,
   "metadata": {},
   "outputs": [],
   "source": [
    "video_time_codes = video_time_encoding.forward(0.72, batch_size).unsqueeze(1)\n",
    "\n",
    "print(noisy_batch.shape, diff_timesteps.shape, video_time_codes.shape)\n",
    "pred = net.forward(noisy_batch, diff_timesteps, encoder_hidden_states=video_time_codes, return_dict=False)[0]\n",
    "pred.shape"
   ]
  }
 ],
 "metadata": {
  "kernelspec": {
   "display_name": "Python 3",
   "language": "python",
   "name": "python3"
  },
  "language_info": {
   "codemirror_mode": {
    "name": "ipython",
    "version": 3
   },
   "file_extension": ".py",
   "mimetype": "text/x-python",
   "name": "python",
   "nbconvert_exporter": "python",
   "pygments_lexer": "ipython3",
   "version": "3.11.9"
  }
 },
 "nbformat": 4,
 "nbformat_minor": 2
}
